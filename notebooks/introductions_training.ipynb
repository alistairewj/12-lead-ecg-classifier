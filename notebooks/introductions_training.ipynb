{
 "cells": [
  {
   "cell_type": "markdown",
   "id": "0df8c166",
   "metadata": {},
   "source": [
    "# Introductions for Training a Model\n",
    "\n",
    "Training can be performed either with a single yaml file or with several yaml files located in the same directory.\n",
    "\n",
    "------\n"
   ]
  },
  {
   "cell_type": "markdown",
   "id": "4be89749",
   "metadata": {},
   "source": [
    "First, check out the yaml files in `/configs/training/` which one you want to use or if you want to make one of your own. The yaml file (in this case, `train_smoke.yaml`) should have the following attributes\n",
    "\n",
    "```\n",
    "# INITIAL SETTINGS\n",
    "train_file: 'train_split0_0.csv'\n",
    "val_file: 'val_split0_0.csv'\n",
    "\n",
    "# TRAINING SETTINGS\n",
    "batch_size: 64\n",
    "num_workers: 0\n",
    "\n",
    "# SAVE, LOAD AND DISPLAY INFORMATION\n",
    "epochs: 1\n",
    "```\n",
    "\n",
    "where `train_file` refers to a csv file which is used for training phase of epoch(s). It consists of the paths for ECG recordings, patients' gender and age, and labels used in the classification. `val_file` refers to a csv file which is used in the validation phase of epoch(s). `epochs` refers to the total number of training epochs.\n",
    "\n",
    "If you want to run multiple yaml files at the same run, locate all individual yaml files in one directory.\n",
    "\n",
    "<font color ='red'>**NOTE!**</font> You might need to create the csv files set in the yaml file. You can do it with the introductions in the notebook [Introductions for Data Handling](introductions_data.ipynb)."
   ]
  },
  {
   "cell_type": "markdown",
   "id": "1bd2b8a5",
   "metadata": {},
   "source": [
    "In the script `train_model.py`, consider checking the paths for csv files (`csv_root`) and data (`data_root`) to make sure they point to the right locations. There are also other parameters for training as\n",
    "\n",
    "```\n",
    "args.device_count = 2\n",
    "args.lr = 0.003\n",
    "args.weight_decay = 0.00001\n",
    "```\n",
    "\n",
    "which can be set as desired.\n",
    "\n",
    "<font color ='red'>**NOTE!**</font> The attribute `args.device_count` should be considered. It refers to the number of GPUs which are used in training. This reflects to the attribute `args.batch_size` since the batch size should be divided by device count. Obviously, the result of the division should be a positive integer."
   ]
  },
  {
   "cell_type": "markdown",
   "id": "4a601f85",
   "metadata": {},
   "source": [
    "Trained model(s), ROC curves of the validation phase and training history will be saved in a subdirectory of the `experiments` directory. With the multiple yaml file run, all mentioned will be saved in a subdirectory of the `experiments` directory. Each file or directory will be named after the used yaml file or the directory where the yaml files exist.\n",
    "\n",
    "Model will be saved in a `pth` format, ROC curves as `png` images and history as a `pickle` file. ROC curves will have a directory of their own."
   ]
  },
  {
   "cell_type": "markdown",
   "id": "c5f17d5e",
   "metadata": {},
   "source": [
    "### Terminal commands\n",
    "\n",
    "Run a terminal command which consist of the script and the yaml file *or* the directory where all the yaml files are located, so one of the followings\n",
    "\n",
    "```\n",
    "python train_model.py train_data.yaml\n",
    "python train_model.py training_multiple\n",
    "```"
   ]
  },
  {
   "cell_type": "markdown",
   "id": "1ee2a8fd",
   "metadata": {},
   "source": [
    "## Example: Smoke testing"
   ]
  },
  {
   "cell_type": "markdown",
   "id": "b44f4e79",
   "metadata": {},
   "source": [
    "### One yaml file\n",
    "\n",
    "Let's use the presented yaml file `train_smoke.yaml` from `/configs/training/` in smoke testing. The csv files `train_split0_0.csv` and `val_split0_0.csv` have already been constructed with the script `prepare_data.py`. The first rows from both csvs are as follows\n",
    "\n",
    "Train csv:\n",
    "```\n",
    "path,age,gender,fs,426783006,426177001,164934002,427084000,164890007,39732003,164889003,59931005,427393009,270492004\n",
    "./data/physionet_data_smoke/G12EC/E00001.mat,-1.0,Female,500.0,1.0,0.0,0.0,0.0,0.0,0.0,0.0,0.0,0.0,0.0\n",
    "./data/physionet_data_smoke/G12EC/E00007.mat,65.0,Male,500.0,0.0,0.0,0.0,0.0,1.0,0.0,1.0,0.0,0.0,0.0\n",
    "./data/physionet_data_smoke/G12EC/E00004.mat,75.0,Male,500.0,0.0,1.0,1.0,0.0,0.0,0.0,0.0,0.0,0.0,0.0\n",
    "./data/physionet_data_smoke/G12EC/E00008.mat,76.0,Male,500.0,0.0,0.0,0.0,1.0,0.0,1.0,0.0,0.0,0.0,0.0\n",
    "./data/physionet_data_smoke/G12EC/E00006.mat,65.0,Male,500.0,0.0,0.0,1.0,0.0,0.0,0.0,0.0,1.0,0.0,0.0\n",
    "...\n",
    "```\n",
    "\n",
    "Val csv:\n",
    "```\n",
    "path,age,gender,fs,426783006,426177001,164934002,427084000,164890007,39732003,164889003,59931005,427393009,270492004\n",
    "./data/physionet_data_smoke/G12EC/E00009.mat,76.0,Male,500.0,0.0,0.0,0.0,1.0,0.0,1.0,0.0,0.0,0.0,0.0\n",
    "./data/physionet_data_smoke/INCART/I0064.mat,58.0,Male,257.0,0.0,0.0,0.0,0.0,0.0,0.0,0.0,1.0,0.0,0.0\n",
    "./data/physionet_data_smoke/PTB_PTBXL/HR00009.mat,55.0,Male,500.0,1.0,0.0,0.0,0.0,0.0,0.0,0.0,0.0,0.0,0.0\n",
    "./data/physionet_data_smoke/PTB_PTBXL/HR00001.mat,56.0,Female,500.0,1.0,0.0,0.0,0.0,0.0,0.0,0.0,0.0,0.0,0.0\n",
    "...\n",
    "```\n",
    "\n",
    "The paths in `train_model.py` should be set as below\n",
    "\n",
    "```\n",
    "csv_root = './data/split_csvs/physionet_stratified_smoke/'\n",
    "data_root = './data/physionet_data_smoke/' \n",
    "```\n",
    "\n",
    "And other parameters as\n",
    "\n",
    "```\n",
    "args.device_count = 1\n",
    "args.lr = 0.003\n",
    "args.weight_decay = 0.00001\n",
    "```\n",
    "\n",
    "Now you should be ready to perform the training:\n",
    "\n",
    "```\n",
    "python train_model.py train_smoke.yaml\n",
    "```\n",
    "\n",
    "A trained model and training history can be found as `train_smoke.pth` and `train_smoke_history.pickle` in the `experiments` directory. ROC curves are saved in the `ROC_train_smoke` directory as `roc-e1.png`, `roc-e2.png` etc, named after the number of the epoch on which it's been drawn.\n",
    "\n",
    "### Multiple yaml files in a directory\n",
    "\n",
    "The idea is similar here: Now you should locate all the yaml files constructed as the presented yaml file `train_smoke.yaml`. There are a directory `train_multiple_smoke` in `/configs/training/` in which there are three yaml files named as `smoke0.yaml`, `smoke1.yaml` and `smoke2.yaml`. Each yaml file has different yaml files for training and validation as follows\n",
    "\n",
    "`smoke0.yaml`\n",
    "```\n",
    "train_file: 'train_split1_0.csv'\n",
    "val_file: 'val_split1_0.csv'\n",
    "```\n",
    "\n",
    "`smoke1.yaml`\n",
    "```\n",
    "train_file: 'train_split1_1.csv'\n",
    "val_file: 'val_split1_1.csv'\n",
    "```\n",
    "\n",
    "`smoke2.yaml`\n",
    "```\n",
    "train_file: 'train_split1_2.csv'\n",
    "val_file: 'val_split1_2.csv'\n",
    "```\n",
    "\n",
    "So each csv file has been constructed in the same stratification (the number right after 'split' which is now 1).\n",
    "\n",
    "The paths in `train_model.py` should still be set as below\n",
    "\n",
    "```\n",
    "csv_root = './data/split_csvs/physionet_stratified_smoke/'\n",
    "data_root = './data/physionet_data_smoke/' \n",
    "```\n",
    "\n",
    "Terminal command for training is now\n",
    "\n",
    "```\n",
    "python train_model.py train_multiple_smoke\n",
    "```\n",
    "\n",
    "Trained models (of which there are now three) are now saved as `smoke0.pth`, `smoke1.pth` and `smoke2.pth` in the `train_multiple_smoke` subdirectory (named after the directory in which the yaml files are located) of the `experiments` directory. Similarly there are three similarly named `pickle` files for each training history. ROC curves can be found from three different directories that are also named after the yaml files."
   ]
  }
 ],
 "metadata": {
  "kernelspec": {
   "display_name": "Python 3 (ipykernel)",
   "language": "python",
   "name": "python3"
  },
  "language_info": {
   "codemirror_mode": {
    "name": "ipython",
    "version": 3
   },
   "file_extension": ".py",
   "mimetype": "text/x-python",
   "name": "python",
   "nbconvert_exporter": "python",
   "pygments_lexer": "ipython3",
   "version": "3.10.4"
  }
 },
 "nbformat": 4,
 "nbformat_minor": 5
}
